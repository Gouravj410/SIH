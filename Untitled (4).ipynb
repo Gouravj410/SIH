{
  "metadata": {
    "kernelspec": {
      "name": "python",
      "display_name": "Python (Pyodide)",
      "language": "python"
    },
    "language_info": {
      "codemirror_mode": {
        "name": "python",
        "version": 3
      },
      "file_extension": ".py",
      "mimetype": "text/x-python",
      "name": "python",
      "nbconvert_exporter": "python",
      "pygments_lexer": "ipython3",
      "version": "3.8"
    }
  },
  "nbformat_minor": 5,
  "nbformat": 4,
  "cells": [
    {
      "id": "7d1489b9-20c5-4a22-9a9b-9177d69992ab",
      "cell_type": "code",
      "source": "import pandas as pd\nimport xml.etree.ElementTree as ET",
      "metadata": {
        "trusted": true
      },
      "outputs": [],
      "execution_count": 1
    },
    {
      "id": "1698559a-1926-4e44-bd6d-6127f410af27",
      "cell_type": "code",
      "source": "def parse_file(file_path):\n    if file_path.endswith(\".csv\"):\n        df = pd.read_csv(file_path)\n    elif file_path.endswith(\".xlsx\"):\n        df = pd.read_excel(file_path)\n    elif file_path.endswith(\".xml\"):\n        tree = ET.parse(file_path)\n        root = tree.getroot()\n        data = []\n        for point in root.findall(\"Point\"):\n            freq = float(point.find(\"Frequency\").text)\n            mag = float(point.find(\"Magnitude\").text)\n            data.append([freq, mag])\n        df = pd.DataFrame(data, columns=[\"Frequency\", \"Magnitude\"])\n    else:\n        raise ValueError(\"Unsupported file format\")\n    \n    return df",
      "metadata": {
        "trusted": true
      },
      "outputs": [],
      "execution_count": 2
    },
    {
      "id": "5c8e964e-eeb9-411e-afa8-cd13c5c4e5e0",
      "cell_type": "code",
      "source": "data = parse_file(\"demodata.csv\")",
      "metadata": {
        "trusted": true
      },
      "outputs": [],
      "execution_count": 8
    },
    {
      "id": "c36364fb-ca7e-42ea-86db-8b551a013cd0",
      "cell_type": "code",
      "source": "data.info()",
      "metadata": {
        "trusted": true
      },
      "outputs": [
        {
          "name": "stdout",
          "output_type": "stream",
          "text": "<class 'pandas.core.frame.DataFrame'>\nRangeIndex: 24000 entries, 0 to 23999\nData columns (total 18 columns):\n #   Column              Non-Null Count  Dtype  \n---  ------              --------------  -----  \n 0   measurement_id      24000 non-null  int64  \n 1   transformer_id      24000 non-null  object \n 2   transformer_type    24000 non-null  object \n 3   rating_kVA          24000 non-null  int64  \n 4   voltage_levels      24000 non-null  object \n 5   manufacturer        24000 non-null  object \n 6   test_date           24000 non-null  object \n 7   vendor_equipment    24000 non-null  object \n 8   frequency_hz        24000 non-null  float64\n 9   magnitude_dB        24000 non-null  float64\n 10  phase_degrees       24000 non-null  float64\n 11  fault_type          24000 non-null  object \n 12  fault_severity      24000 non-null  int64  \n 13  baseline_available  20000 non-null  object \n 14  test_configuration  24000 non-null  object \n 15  temperature_C       24000 non-null  int64  \n 16  humidity_percent    24000 non-null  int64  \n 17  recommended_action  24000 non-null  object \ndtypes: float64(3), int64(5), object(10)\nmemory usage: 2.4+ MB\n"
        }
      ],
      "execution_count": 9
    },
    {
      "id": "8e10fcec-e45a-46b5-904e-da312b7badec",
      "cell_type": "code",
      "source": "data.describe()",
      "metadata": {
        "trusted": true
      },
      "outputs": [
        {
          "execution_count": 10,
          "output_type": "execute_result",
          "data": {
            "text/plain": "       measurement_id     rating_kVA  frequency_hz  magnitude_dB  \\\ncount    24000.000000   24000.000000  2.400000e+04  24000.000000   \nmean        15.500000   35300.000000  1.774743e+05    -15.711359   \nstd          8.655622   37137.817214  3.881816e+05     18.790236   \nmin          1.000000     500.000000  1.995262e+01    -65.180619   \n25%          8.000000    1000.000000  3.549237e+02    -29.940242   \n50%         15.500000   25000.000000  6.312213e+03    -16.046452   \n75%         23.000000   50000.000000  1.122374e+05     -0.708809   \nmax         30.000000  100000.000000  1.995262e+06     25.968694   \n\n       phase_degrees  fault_severity  temperature_C  humidity_percent  \ncount   24000.000000    24000.000000   24000.000000      24000.000000  \nmean      -88.790751        1.500000      24.506583         54.489250  \nstd        21.215125        0.957447       5.769078          8.651127  \nmin      -126.503967        0.000000      15.000000         40.000000  \n25%      -109.749728        1.000000      20.000000         47.000000  \n50%       -87.360684        1.500000      25.000000         55.000000  \n75%       -67.887599        2.000000      30.000000         62.000000  \nmax       -53.199723        3.000000      34.000000         69.000000  ",
            "text/html": "<div>\n<style scoped>\n    .dataframe tbody tr th:only-of-type {\n        vertical-align: middle;\n    }\n\n    .dataframe tbody tr th {\n        vertical-align: top;\n    }\n\n    .dataframe thead th {\n        text-align: right;\n    }\n</style>\n<table border=\"1\" class=\"dataframe\">\n  <thead>\n    <tr style=\"text-align: right;\">\n      <th></th>\n      <th>measurement_id</th>\n      <th>rating_kVA</th>\n      <th>frequency_hz</th>\n      <th>magnitude_dB</th>\n      <th>phase_degrees</th>\n      <th>fault_severity</th>\n      <th>temperature_C</th>\n      <th>humidity_percent</th>\n    </tr>\n  </thead>\n  <tbody>\n    <tr>\n      <th>count</th>\n      <td>24000.000000</td>\n      <td>24000.000000</td>\n      <td>2.400000e+04</td>\n      <td>24000.000000</td>\n      <td>24000.000000</td>\n      <td>24000.000000</td>\n      <td>24000.000000</td>\n      <td>24000.000000</td>\n    </tr>\n    <tr>\n      <th>mean</th>\n      <td>15.500000</td>\n      <td>35300.000000</td>\n      <td>1.774743e+05</td>\n      <td>-15.711359</td>\n      <td>-88.790751</td>\n      <td>1.500000</td>\n      <td>24.506583</td>\n      <td>54.489250</td>\n    </tr>\n    <tr>\n      <th>std</th>\n      <td>8.655622</td>\n      <td>37137.817214</td>\n      <td>3.881816e+05</td>\n      <td>18.790236</td>\n      <td>21.215125</td>\n      <td>0.957447</td>\n      <td>5.769078</td>\n      <td>8.651127</td>\n    </tr>\n    <tr>\n      <th>min</th>\n      <td>1.000000</td>\n      <td>500.000000</td>\n      <td>1.995262e+01</td>\n      <td>-65.180619</td>\n      <td>-126.503967</td>\n      <td>0.000000</td>\n      <td>15.000000</td>\n      <td>40.000000</td>\n    </tr>\n    <tr>\n      <th>25%</th>\n      <td>8.000000</td>\n      <td>1000.000000</td>\n      <td>3.549237e+02</td>\n      <td>-29.940242</td>\n      <td>-109.749728</td>\n      <td>1.000000</td>\n      <td>20.000000</td>\n      <td>47.000000</td>\n    </tr>\n    <tr>\n      <th>50%</th>\n      <td>15.500000</td>\n      <td>25000.000000</td>\n      <td>6.312213e+03</td>\n      <td>-16.046452</td>\n      <td>-87.360684</td>\n      <td>1.500000</td>\n      <td>25.000000</td>\n      <td>55.000000</td>\n    </tr>\n    <tr>\n      <th>75%</th>\n      <td>23.000000</td>\n      <td>50000.000000</td>\n      <td>1.122374e+05</td>\n      <td>-0.708809</td>\n      <td>-67.887599</td>\n      <td>2.000000</td>\n      <td>30.000000</td>\n      <td>62.000000</td>\n    </tr>\n    <tr>\n      <th>max</th>\n      <td>30.000000</td>\n      <td>100000.000000</td>\n      <td>1.995262e+06</td>\n      <td>25.968694</td>\n      <td>-53.199723</td>\n      <td>3.000000</td>\n      <td>34.000000</td>\n      <td>69.000000</td>\n    </tr>\n  </tbody>\n</table>\n</div>"
          },
          "metadata": {}
        }
      ],
      "execution_count": 10
    },
    {
      "id": "87e5d43e-fb19-4e93-bb10-f4ed40b33857",
      "cell_type": "code",
      "source": "",
      "metadata": {
        "trusted": true
      },
      "outputs": [],
      "execution_count": null
    }
  ]
}